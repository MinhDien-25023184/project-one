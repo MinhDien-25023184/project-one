{
 "cells": [
  {
   "cell_type": "code",
   "execution_count": 1,
   "id": "0823088a-9809-44b9-af7b-ba053f0cbf70",
   "metadata": {},
   "outputs": [
    {
     "name": "stdin",
     "output_type": "stream",
     "text": [
      " 2\n"
     ]
    },
    {
     "name": "stdout",
     "output_type": "stream",
     "text": [
      "gấp đôi số n là: 4\n"
     ]
    }
   ],
   "source": [
    "#bai1#\n",
    "n=int(input())\n",
    "a=n*2\n",
    "print(\"gấp đôi số n là:\",a)"
   ]
  },
  {
   "cell_type": "code",
   "execution_count": 6,
   "id": "916cff72-5a0b-428f-803b-21bc6d2e7fa2",
   "metadata": {},
   "outputs": [
    {
     "name": "stdin",
     "output_type": "stream",
     "text": [
      "nhập vào chiều dài: 5\n",
      "nhập vào chiều rộng: 2\n"
     ]
    },
    {
     "name": "stdout",
     "output_type": "stream",
     "text": [
      "6.86\n"
     ]
    }
   ],
   "source": [
    "#bai2#\n",
    "a=float(input(\"nhập vào chiều dài:\"))\n",
    "b=float(input(\"nhập vào chiều rộng:\"))\n",
    "r=min(a,b)/2\n",
    "dien_tich_cn=a*b\n",
    "dien_tich_tron=3.14*(r**2)\n",
    "dien_tich_cay=dien_tich_cn - dien_tich_tron\n",
    "print(f\"{dien_tich_cay:.2f}\")"
   ]
  },
  {
   "cell_type": "code",
   "execution_count": 7,
   "id": "a70143e8-f6d9-41ee-a7f0-493fd55d6e5b",
   "metadata": {},
   "outputs": [
    {
     "name": "stdin",
     "output_type": "stream",
     "text": [
      "nhập vào chữ cái: A\n"
     ]
    },
    {
     "name": "stdout",
     "output_type": "stream",
     "text": [
      "chữ thường: a\n"
     ]
    }
   ],
   "source": [
    "#bai3\n",
    "c=input(\"nhập vào chữ cái:\")\n",
    "if c.isupper():\n",
    "    print(\"chữ thường:\",c.lower())\n",
    "else:\n",
    "    print(\"chữ hoa:\",c.upper())"
   ]
  },
  {
   "cell_type": "code",
   "execution_count": 8,
   "id": "c63b8899-b5c9-4f05-abec-70ebb17ce155",
   "metadata": {},
   "outputs": [
    {
     "name": "stdin",
     "output_type": "stream",
     "text": [
      "nhập vào kí tự: a\n"
     ]
    },
    {
     "name": "stdout",
     "output_type": "stream",
     "text": [
      "c là kí alphabet\n"
     ]
    }
   ],
   "source": [
    "#bai4\n",
    "c=input(\"nhập vào kí tự:\")\n",
    "if c.isalpha:\n",
    "    print(\"c là kí alphabet\")\n",
    "else:\n",
    "    print(\"c không phải là kí tự alphabet\")"
   ]
  },
  {
   "cell_type": "code",
   "execution_count": 9,
   "id": "eebb3858-a8d7-4c6e-a2ec-1105587a2292",
   "metadata": {},
   "outputs": [
    {
     "name": "stdin",
     "output_type": "stream",
     "text": [
      "Nhập vào một chữ cái hoa:  B\n"
     ]
    },
    {
     "name": "stdout",
     "output_type": "stream",
     "text": [
      "Chữ cái thường liền trước: a\n"
     ]
    }
   ],
   "source": [
    "#bai5\n",
    "c = input(\"Nhập vào một chữ cái hoa: \")\n",
    "if c == \"A\":\n",
    "    print(\"Trường hợp đặc biệt: A không có chữ cái trước nó\")\n",
    "elif c.isupper():\n",
    "    a = c.lower()\n",
    "    b = chr(ord(a) - 1)\n",
    "    print(f\"Chữ cái thường liền trước: {b}\")\n",
    "else:\n",
    "    print(\"Bạn không nhập chữ cái hoa!\")"
   ]
  },
  {
   "cell_type": "code",
   "execution_count": 10,
   "id": "1f9502b9-bb74-4552-b043-6ff25e4944fa",
   "metadata": {},
   "outputs": [
    {
     "name": "stdin",
     "output_type": "stream",
     "text": [
      " 3 4 6\n"
     ]
    },
    {
     "name": "stdout",
     "output_type": "stream",
     "text": [
      "Diện tích tam giác:5.3\n"
     ]
    }
   ],
   "source": [
    "#bai6\n",
    "import math\n",
    "a,b,c=map(float, input().split())\n",
    "if a+b>c and a+c>b and b+c>a:\n",
    "    p=(a+b+c)/2\n",
    "    S=math.sqrt(p*(p-a)*(p-b)*(p-c))\n",
    "    print(f\"Diện tích tam giác:{S:.1f}\")\n",
    "else:\n",
    "    print(\"Không phải 3 cạnh của 1 tam giác\")"
   ]
  },
  {
   "cell_type": "code",
   "execution_count": 12,
   "id": "27d6a783-90e2-4df6-a5b6-08688c4a534a",
   "metadata": {},
   "outputs": [
    {
     "name": "stdin",
     "output_type": "stream",
     "text": [
      "nhập vào chuỗi kí tự thường >=20: abcdefghijklmuytsoasns\n"
     ]
    },
    {
     "name": "stdout",
     "output_type": "stream",
     "text": [
      "chữ cái thứ 5: e\n",
      "chữ cái thứ 9: i\n"
     ]
    }
   ],
   "source": [
    "#bai7\n",
    "s=input(\"nhập vào chuỗi kí tự thường >=20:\")\n",
    "if len(s)>=20 and s.islower():\n",
    "    print(\"chữ cái thứ 5:\", s[4])\n",
    "    print(\"chữ cái thứ 9:\", s[8])"
   ]
  },
  {
   "cell_type": "code",
   "execution_count": 15,
   "id": "1dd0c19e-0d9a-4721-8d24-662e380c6d46",
   "metadata": {},
   "outputs": [
    {
     "name": "stdin",
     "output_type": "stream",
     "text": [
      "Tên chủ hộ:  phạm xuân toại\n",
      "Chỉ số tháng trước:  1020\n",
      "Chỉ số tháng này:  1070\n"
     ]
    },
    {
     "name": "stdout",
     "output_type": "stream",
     "text": [
      "Họ và Tên: phạm xuân toại\n",
      "Tiền điện phải trả: 107136\n"
     ]
    }
   ],
   "source": [
    "#bai8\n",
    "def tinh_tien_dien(kwh):\n",
    "    bac = [50, 50, 100, 100, 100]\n",
    "    gia = [1984, 2050, 2380, 2998, 3350, 3460]\n",
    "    tien = 0\n",
    "    for i in range(len(bac)):\n",
    "        if kwh > bac[i]:\n",
    "            tien += bac[i] * gia[i]\n",
    "            kwh -= bac[i]\n",
    "        else:\n",
    "            tien += kwh * gia[i]\n",
    "        return tien\n",
    "ten = input(\"Tên chủ hộ: \")\n",
    "b = int(input(\"Chỉ số tháng trước: \"))\n",
    "c = int(input(\"Chỉ số tháng này: \"))\n",
    "kwh = c - b\n",
    "tien_dien = tinh_tien_dien(kwh)\n",
    "tong_tien = int(tien_dien * 1.08)  \n",
    "print(\"Họ và Tên:\", ten)\n",
    "print(\"Tiền điện phải trả:\", tong_tien)"
   ]
  },
  {
   "cell_type": "code",
   "execution_count": 17,
   "id": "a27e6e0d-8ec0-447c-822f-05844d7223a6",
   "metadata": {},
   "outputs": [
    {
     "name": "stdin",
     "output_type": "stream",
     "text": [
      "nhập số nguyên: 4\n"
     ]
    },
    {
     "name": "stdout",
     "output_type": "stream",
     "text": [
      "là số chẵn\n"
     ]
    }
   ],
   "source": [
    "#bai1\n",
    "a=int(input(\"nhập số nguyên:\"))\n",
    "if a%2==0:\n",
    "      print(\"là số chẵn\")\n",
    "else:\n",
    "      print(\"là số lẻ\")"
   ]
  },
  {
   "cell_type": "code",
   "execution_count": 18,
   "id": "104399e7-f3ac-4393-9883-6ef252efbc88",
   "metadata": {},
   "outputs": [
    {
     "name": "stdin",
     "output_type": "stream",
     "text": [
      "nhập vào số nguyên: 15\n"
     ]
    },
    {
     "name": "stdout",
     "output_type": "stream",
     "text": [
      "True\n"
     ]
    }
   ],
   "source": [
    "#bai2\n",
    "a=int(input(\"nhập vào số nguyên:\"))\n",
    "if a%5==0 and a%2!=0:\n",
    "    print(\"True\")\n",
    "else:\n",
    "    print(\"False\")"
   ]
  },
  {
   "cell_type": "code",
   "execution_count": 19,
   "id": "a7f808f6-f4e3-4720-b0b5-e0a215458d54",
   "metadata": {},
   "outputs": [
    {
     "name": "stdin",
     "output_type": "stream",
     "text": [
      "nhập vào số nguyên: 30\n"
     ]
    },
    {
     "name": "stdout",
     "output_type": "stream",
     "text": [
      "True\n"
     ]
    }
   ],
   "source": [
    "#bai3\n",
    "a=int(input(\"nhập vào số nguyên:\"))\n",
    "if a%15==0:\n",
    "    print(\"True\")\n",
    "else:\n",
    "    print(\"False\")"
   ]
  },
  {
   "cell_type": "code",
   "execution_count": 20,
   "id": "b602a199-b55c-40da-bc18-01473cc4a3c0",
   "metadata": {},
   "outputs": [
    {
     "name": "stdin",
     "output_type": "stream",
     "text": [
      "Nhập tuổi của bạn: 17\n"
     ]
    },
    {
     "name": "stdout",
     "output_type": "stream",
     "text": [
      "Ko đủ tuổi tham gia\n"
     ]
    }
   ],
   "source": [
    "#bai4\n",
    "age=int(input(\"Nhập tuổi của bạn:\"))\n",
    "if age>=18:\n",
    "        print(\"Đủ tuổi tham gia bầu cử\")\n",
    "else:\n",
    "        print(\"Ko đủ tuổi tham gia\")"
   ]
  },
  {
   "cell_type": "code",
   "execution_count": 21,
   "id": "b4e2e632-0104-4538-8d93-688b67fe2f5b",
   "metadata": {},
   "outputs": [
    {
     "name": "stdin",
     "output_type": "stream",
     "text": [
      " 5 7\n"
     ]
    },
    {
     "name": "stdout",
     "output_type": "stream",
     "text": [
      "7.0\n"
     ]
    }
   ],
   "source": [
    "#bai5\n",
    "a,b=map(float, input().split())\n",
    "if a>b:\n",
    "    print(a)\n",
    "elif a<b:\n",
    "    print(b)\n",
    "else:\n",
    "    print(\"2 số bằng nhau\")"
   ]
  },
  {
   "cell_type": "code",
   "execution_count": 24,
   "id": "1741fa7b-09a7-407f-a040-30193d4f2afb",
   "metadata": {},
   "outputs": [
    {
     "name": "stdin",
     "output_type": "stream",
     "text": [
      "Nhập một ký tự:  3\n"
     ]
    },
    {
     "name": "stdout",
     "output_type": "stream",
     "text": [
      "3 là chữ số\n"
     ]
    }
   ],
   "source": [
    "#bai6\n",
    "c= input(\"Nhập một ký tự: \")\n",
    "if c.isalpha():\n",
    "    print(f\"{c} là chữ cái\")\n",
    "elif c.isdigit():\n",
    "    print(f\"{c} là chữ số\")\n",
    "else:\n",
    "    print(f\"{c} không phải là chữ cái cũng không phải chữ số\")"
   ]
  },
  {
   "cell_type": "code",
   "execution_count": 23,
   "id": "f4e3201a-683f-4f08-9900-decaad2137d2",
   "metadata": {},
   "outputs": [
    {
     "name": "stdin",
     "output_type": "stream",
     "text": [
      "Nhập điểm (0-10):  8.5\n"
     ]
    },
    {
     "name": "stdout",
     "output_type": "stream",
     "text": [
      "Học lực: Giỏi\n"
     ]
    }
   ],
   "source": [
    "#bai7\n",
    "diem = float(input(\"Nhập điểm (0-10): \"))\n",
    "if diem < 0 or diem > 10:\n",
    "    print(\"Điểm không hợp lệ! Vui lòng nhập từ 0 đến 10.\")\n",
    "elif diem >= 8:\n",
    "    print(\"Học lực: Giỏi\")\n",
    "elif diem >= 6.5:\n",
    "    print(\"Học lực: Khá\")\n",
    "elif diem >= 5:\n",
    "    print(\"Học lực: Trung bình\")\n",
    "else:\n",
    "    print(\"Học lực: Yếu\")"
   ]
  },
  {
   "cell_type": "code",
   "execution_count": 26,
   "id": "66bc0022-380e-496c-92a3-3aa6957b37a4",
   "metadata": {},
   "outputs": [
    {
     "name": "stdin",
     "output_type": "stream",
     "text": [
      "nhập năm: 804\n"
     ]
    },
    {
     "name": "stdout",
     "output_type": "stream",
     "text": [
      "năm nhuận\n"
     ]
    }
   ],
   "source": [
    "#bai8\n",
    "nam=int(input(\"nhập năm:\"))\n",
    "if nam%400==0 or nam%4==0 and nam%100!=0:\n",
    "        print(\"năm nhuận\")\n",
    "else:\n",
    "        print(\"năm ko nhuận\")"
   ]
  },
  {
   "cell_type": "code",
   "execution_count": 27,
   "id": "8ab9b28b-fb3c-43b3-a0d0-09b83d5d2131",
   "metadata": {},
   "outputs": [
    {
     "name": "stdin",
     "output_type": "stream",
     "text": [
      "Nhập số (0-9):  8\n"
     ]
    },
    {
     "name": "stdout",
     "output_type": "stream",
     "text": [
      "Tám\n"
     ]
    }
   ],
   "source": [
    "#bai9\n",
    "so = int(input(\"Nhập số (0-9): \"))\n",
    "match so:\n",
    "    case 0:\n",
    "        print(\"Không\")\n",
    "    case 1:\n",
    "        print(\"Một\")\n",
    "    case 2:\n",
    "        print(\"Hai\")\n",
    "    case 3:\n",
    "        print(\"Ba\")\n",
    "    case 4:\n",
    "        print(\"Bốn\")\n",
    "    case 5:\n",
    "        print(\"Năm\")\n",
    "    case 6:\n",
    "        print(\"Sáu\")\n",
    "    case 7:\n",
    "        print(\"Bảy\")\n",
    "    case 8:\n",
    "        print(\"Tám\")\n",
    "    case 9:\n",
    "        print(\"Chín\")"
   ]
  },
  {
   "cell_type": "code",
   "execution_count": 29,
   "id": "c868ddc4-d2ec-41a8-950c-1827880a248f",
   "metadata": {},
   "outputs": [
    {
     "name": "stdin",
     "output_type": "stream",
     "text": [
      "nhập số điểm: 5\n"
     ]
    },
    {
     "ename": "TypeError",
     "evalue": "'>=' not supported between instances of 'str' and 'int'",
     "output_type": "error",
     "traceback": [
      "\u001b[31m---------------------------------------------------------------------------\u001b[39m",
      "\u001b[31mTypeError\u001b[39m                                 Traceback (most recent call last)",
      "\u001b[36mCell\u001b[39m\u001b[36m \u001b[39m\u001b[32mIn[29]\u001b[39m\u001b[32m, line 3\u001b[39m\n\u001b[32m      1\u001b[39m \u001b[38;5;66;03m#bai10\u001b[39;00m\n\u001b[32m      2\u001b[39m diem=\u001b[38;5;28minput\u001b[39m(\u001b[33m\"\u001b[39m\u001b[33mnhập số điểm:\u001b[39m\u001b[33m\"\u001b[39m)\n\u001b[32m----> \u001b[39m\u001b[32m3\u001b[39m \u001b[38;5;28;01mif\u001b[39;00m \u001b[43mdiem\u001b[49m\u001b[43m>\u001b[49m\u001b[43m=\u001b[49m\u001b[43m \u001b[49m\u001b[32;43m4\u001b[39;49m :\n\u001b[32m      4\u001b[39m     \u001b[38;5;28mprint\u001b[39m(\u001b[33m\"\u001b[39m\u001b[33mQua môn\u001b[39m\u001b[33m\"\u001b[39m)\n\u001b[32m      5\u001b[39m \u001b[38;5;28;01melse\u001b[39;00m:\n",
      "\u001b[31mTypeError\u001b[39m: '>=' not supported between instances of 'str' and 'int'"
     ]
    }
   ],
   "source": [
    "#bai10\n",
    "diem=input(\"nhập số điểm:\")\n",
    "if diem>=4:\n",
    "    print(\"Qua môn\")\n",
    "else:\n",
    "    print(\"Học lại\")"
   ]
  },
  {
   "cell_type": "code",
   "execution_count": 30,
   "id": "76eb4bcf-9ac8-4bc6-aafe-7340dc434770",
   "metadata": {},
   "outputs": [
    {
     "name": "stdin",
     "output_type": "stream",
     "text": [
      "nhập năm sinh: 2007\n"
     ]
    },
    {
     "name": "stdout",
     "output_type": "stream",
     "text": [
      "Đủ 18 tuổi\n"
     ]
    }
   ],
   "source": [
    "#bai11\n",
    "nam_sinh=int(input(\"nhập năm sinh:\"))\n",
    "age=2025 - nam_sinh\n",
    "if age>=18:\n",
    "    print(\"Đủ 18 tuổi\")\n",
    "else:\n",
    "    print(\"Chưa đủ 18 tuổi\")"
   ]
  },
  {
   "cell_type": "code",
   "execution_count": null,
   "id": "26c2b80f-a507-4922-9ba4-15f7cd2865bc",
   "metadata": {},
   "outputs": [],
   "source": []
  }
 ],
 "metadata": {
  "kernelspec": {
   "display_name": "Python 3 (ipykernel)",
   "language": "python",
   "name": "python3"
  },
  "language_info": {
   "codemirror_mode": {
    "name": "ipython",
    "version": 3
   },
   "file_extension": ".py",
   "mimetype": "text/x-python",
   "name": "python",
   "nbconvert_exporter": "python",
   "pygments_lexer": "ipython3",
   "version": "3.13.5"
  }
 },
 "nbformat": 4,
 "nbformat_minor": 5
}
