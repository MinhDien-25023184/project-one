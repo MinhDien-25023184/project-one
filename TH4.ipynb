{
 "cells": [
  {
   "cell_type": "code",
   "execution_count": 11,
   "id": "9d1e74ad-d5d9-4179-b356-1e0e53efdd44",
   "metadata": {},
   "outputs": [
    {
     "name": "stdin",
     "output_type": "stream",
     "text": [
      " 1000\n"
     ]
    },
    {
     "name": "stdout",
     "output_type": "stream",
     "text": [
      "500500\n"
     ]
    }
   ],
   "source": [
    "#Viết chương trình Python sử dụng một trong 2 loại vòng lặp for hoặc while để\n",
    "# tính tống các số nguyên từ 1 đến n. (n <= 1000)\n",
    "# for i in range(start =0 , stop, step =1)\n",
    "# for _ in range (10): Số lần lặp đc quan tâm\n",
    "#Viết chương trình Python sử dụng một trong 2 loại vòng lặp for hoặc while để\n",
    "# tính tống các số nguyên từ 1 đến n. (n <= 1000)\n",
    "# for i in range(start =0 , stop, step =1)\n",
    "# for _ in range (10): Số lần lặp đc quan tâm\n",
    "# break : nhánh này mà đạt đến thì for dừng lại tại đó\n",
    "# continue: nhánh này mà đạt đến thì bỏ hết sau\n",
    "# W4A1\n",
    "n=int(input())\n",
    "Sum=0\n",
    "for i in range (1,n+1):\n",
    "    Sum +=i\n",
    "print(Sum)\n",
    "    "
   ]
  },
  {
   "cell_type": "code",
   "execution_count": 3,
   "id": "45971066-21c5-440e-a5f1-bfdbd5c5e095",
   "metadata": {},
   "outputs": [
    {
     "name": "stdin",
     "output_type": "stream",
     "text": [
      " 3\n"
     ]
    },
    {
     "name": "stdout",
     "output_type": "stream",
     "text": [
      "số nguyên được nhập n= 3\n",
      "3  là số nguyên tố\n"
     ]
    }
   ],
   "source": [
    "#VIết chương trình nhập vào một số tới khi được một số nguyên dương thì thôi.\n",
    "# W4A2\n",
    "import math\n",
    "n=0\n",
    "for _ in range (10000):\n",
    "    n=int(input())\n",
    "    if n>0:\n",
    "        break\n",
    "    else:\n",
    "        print(\"bạn cần nhập số nguyên dương\")\n",
    "print(\"số nguyên được nhập n=\",n)\n",
    "flag=True\n",
    "for i in range (2,int(math.sqrt(n))+1):\n",
    "    if n % i ==0:\n",
    "        print(\"Dừng tại i =\",i)\n",
    "        flag=False\n",
    "        break\n",
    "if flag==True:\n",
    "    print(n,\" là số nguyên tố\")\n",
    "else:\n",
    "    print(n,\" không phải số nguyên tố\")\n"
   ]
  },
  {
   "cell_type": "code",
   "execution_count": 15,
   "id": "8768deab-18e0-4dfe-a8cc-c532e4aa066b",
   "metadata": {},
   "outputs": [
    {
     "name": "stdin",
     "output_type": "stream",
     "text": [
      " 2\n"
     ]
    },
    {
     "name": "stdout",
     "output_type": "stream",
     "text": [
      "2\n"
     ]
    }
   ],
   "source": [
    "# Viết chương trình tính giai thừa của một số nguyên n cho trước (n!=1×2×…×n)\n",
    "# với 0 < n < 100. \n",
    "# W4A3\n",
    "try:\n",
    "    n=int(input())\n",
    "    giaithua=1\n",
    "    for i in range (1,n+1):\n",
    "        giaithua=giaithua*i\n",
    "    print(giaithua)\n",
    "except ValueError:\n",
    "    print(\"Nhập dữ liệu sai\")"
   ]
  },
  {
   "cell_type": "code",
   "execution_count": null,
   "id": "8e43a79a-1b5c-45b2-a534-78086e101f7a",
   "metadata": {},
   "outputs": [],
   "source": [
    "# Viết chương trình nhập vào một số nguyên n và in ra màn hình số chữ số (trừ dấu)\n",
    "# của số đó. Không dùng kiểu dữ liệu string.\n",
    "# W4A4\n",
    "try:\n",
    "    n = int(input())\n",
    "    n = abs(n)\n",
    "    cnt = 0\n",
    "    if n==0:\n",
    "        cnt +=1\n",
    "    for _ in range(10000):\n",
    "        if n > 0:\n",
    "            cnt += 1\n",
    "            n //= 10\n",
    "        else:\n",
    "\n",
    "            break\n",
    "    print(cnt)\n",
    "except ValueError:\n",
    "    print(\"bạn nhập sai rồi\")"
   ]
  },
  {
   "cell_type": "code",
   "execution_count": 17,
   "id": "19b305c4-cff6-4c8f-b2a7-6ca52eb7553e",
   "metadata": {},
   "outputs": [
    {
     "name": "stdin",
     "output_type": "stream",
     "text": [
      " 42\n",
      " 2\n",
      " 42\n"
     ]
    },
    {
     "name": "stdout",
     "output_type": "stream",
     "text": [
      "I've found the meaning of life\n"
     ]
    }
   ],
   "source": [
    "# W4A5\n",
    "try:\n",
    "    n = int(input())\n",
    "    flag=False\n",
    "    for _ in range(1,n+1):\n",
    "        a = int(input())\n",
    "        if a==42:\n",
    "            print(\"I've found the meaning of life\")\n",
    "            flag = True\n",
    "            break\n",
    "    if flag==False:\n",
    "        print(\"It's a joke\")\n",
    "except ValueError:\n",
    "    print(\"Nhập sai dữ liệu\")"
   ]
  },
  {
   "cell_type": "code",
   "execution_count": 26,
   "id": "0373eb16-0193-4470-a1f3-28774c7541ce",
   "metadata": {},
   "outputs": [
    {
     "name": "stdin",
     "output_type": "stream",
     "text": [
      " 90\n"
     ]
    },
    {
     "name": "stdout",
     "output_type": "stream",
     "text": [
      "2 6 10 18 30 90 6\n"
     ]
    }
   ],
   "source": [
    "# W4A11\n",
    "try:\n",
    "    n = int(input())\n",
    "    cnt = 0\n",
    "    for i in range(2,n+1,2):\n",
    "        if n%i==0 and i%2==0:\n",
    "            print(i, end = ' ')\n",
    "            cnt +=1\n",
    "    print(cnt)\n",
    "except ValueError:\n",
    "    print(\"Nhập sai dữ liệu\")"
   ]
  },
  {
   "cell_type": "code",
   "execution_count": 27,
   "id": "2677aba1-058d-44bc-8417-799caa619539",
   "metadata": {},
   "outputs": [
    {
     "name": "stdin",
     "output_type": "stream",
     "text": [
      " 10\n",
      " 10\n"
     ]
    },
    {
     "name": "stdout",
     "output_type": "stream",
     "text": [
      "10.797523951494593\n"
     ]
    }
   ],
   "source": [
    "# W4A12\n",
    "x = int(input())\n",
    "n = int(input())\n",
    "for _ in range(n+1):\n",
    "    x = x*1.007\n",
    "print(x)\n",
    "    "
   ]
  },
  {
   "cell_type": "code",
   "execution_count": 33,
   "id": "16eeff25-a882-4e54-9ce4-aee6d4f4cc8c",
   "metadata": {},
   "outputs": [
    {
     "name": "stdin",
     "output_type": "stream",
     "text": [
      " 220\n",
      " 284\n"
     ]
    },
    {
     "name": "stdout",
     "output_type": "stream",
     "text": [
      "True\n"
     ]
    }
   ],
   "source": [
    "#W4A13\n",
    "try:\n",
    "    a = int(input())\n",
    "    b = int(input())\n",
    "    tong_uoc_a=0\n",
    "    for i in range(1,a//2+1):\n",
    "        if a%i==0:\n",
    "           tong_uoc_a +=i\n",
    "    tong_uoc_b=0\n",
    "    for i in range(1,b//2+1):\n",
    "        if b%i==0:\n",
    "           tong_uoc_b+=i\n",
    "    print(tong_uoc_a==b and tong_uoc_b==a)\n",
    "except ValueError:\n",
    "    print(\"Nhập sai dữ liệu\")"
   ]
  },
  {
   "cell_type": "code",
   "execution_count": 37,
   "id": "3e22c35c-7f32-4dcb-b5a0-9eeadc0225f2",
   "metadata": {},
   "outputs": [
    {
     "name": "stdin",
     "output_type": "stream",
     "text": [
      " 6 100\n"
     ]
    },
    {
     "name": "stdout",
     "output_type": "stream",
     "text": [
      "2\n"
     ]
    }
   ],
   "source": [
    "# W4A14\n",
    "# cách1\n",
    "a,b = map(int, input().split())\n",
    "ucln=0\n",
    "for _ in range(10000):\n",
    "    if a==b:\n",
    "        ucln=a\n",
    "        break\n",
    "    else:\n",
    "        if a>b:\n",
    "            a=a-b\n",
    "        else:\n",
    "            b=b-a\n",
    "print(ucln)\n",
    "\n",
    "        "
   ]
  },
  {
   "cell_type": "code",
   "execution_count": null,
   "id": "adaec88a-5d41-4b14-b433-7f0d2833f31e",
   "metadata": {},
   "outputs": [],
   "source": []
  }
 ],
 "metadata": {
  "kernelspec": {
   "display_name": "Python 3 (ipykernel)",
   "language": "python",
   "name": "python3"
  },
  "language_info": {
   "codemirror_mode": {
    "name": "ipython",
    "version": 3
   },
   "file_extension": ".py",
   "mimetype": "text/x-python",
   "name": "python",
   "nbconvert_exporter": "python",
   "pygments_lexer": "ipython3",
   "version": "3.13.5"
  }
 },
 "nbformat": 4,
 "nbformat_minor": 5
}
