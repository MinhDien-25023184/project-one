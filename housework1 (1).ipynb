{
 "cells": [
  {
   "cell_type": "code",
   "execution_count": 1,
   "id": "9713a904-248f-4a1a-bdba-d2e6ad16073f",
   "metadata": {},
   "outputs": [
    {
     "name": "stdin",
     "output_type": "stream",
     "text": [
      " 2\n"
     ]
    },
    {
     "name": "stdout",
     "output_type": "stream",
     "text": [
      "gấp đôi số n là: 4\n"
     ]
    }
   ],
   "source": [
    "n=int(input())\n",
    "a=n*2\n",
    "print(\"gấp đôi số n là:\",a)"
   ]
  },
  {
   "cell_type": "code",
   "execution_count": 2,
   "id": "888d1766-61f8-45d0-be84-dede0a66e9b8",
   "metadata": {},
   "outputs": [
    {
     "name": "stdin",
     "output_type": "stream",
     "text": [
      "nhập vào chiều dài: 5\n",
      "nhập vào chiều rộng: 3\n"
     ]
    },
    {
     "name": "stdout",
     "output_type": "stream",
     "text": [
      "7.93\n"
     ]
    }
   ],
   "source": [
    "a=float(input(\"nhập vào chiều dài:\"))\n",
    "b=float(input(\"nhập vào chiều rộng:\"))\n",
    "r=min(a,b)/2\n",
    "dien_tich_cn=a*b\n",
    "dien_tich_tron=3.14*(r**2)\n",
    "dien_tich_cay=dien_tich_cn - dien_tich_tron\n",
    "print(f\"{dien_tich_cay:.2f}\")\n",
    "        "
   ]
  },
  {
   "cell_type": "code",
   "execution_count": 7,
   "id": "9287a816-0166-400b-a814-ba6c56bf4f7b",
   "metadata": {},
   "outputs": [
    {
     "name": "stdin",
     "output_type": "stream",
     "text": [
      "nhập vào chữ cái: A\n"
     ]
    },
    {
     "name": "stdout",
     "output_type": "stream",
     "text": [
      "chữ thường: a\n"
     ]
    }
   ],
   "source": [
    "c=input(\"nhập vào chữ cái:\")\n",
    "if c.isupper():\n",
    "    print(\"chữ thường:\",c.lower())\n",
    "else:\n",
    "    print(\"chữ hoa:\",c.upper())"
   ]
  },
  {
   "cell_type": "code",
   "execution_count": 8,
   "id": "393324c6-0193-40a7-b309-728ed7be345e",
   "metadata": {},
   "outputs": [
    {
     "name": "stdin",
     "output_type": "stream",
     "text": [
      "nhập vào kí tự: A\n"
     ]
    },
    {
     "name": "stdout",
     "output_type": "stream",
     "text": [
      "c là kí alphabet\n"
     ]
    }
   ],
   "source": [
    "c=input(\"nhập vào kí tự:\")\n",
    "if c.isalpha:\n",
    "    print(\"c là kí alphabet\")\n",
    "else:\n",
    "    print(\"c không phải là kí tự alphabet\")"
   ]
  },
  {
   "cell_type": "code",
   "execution_count": 13,
   "id": "bcd6948f-324b-4004-b87c-66c90a098f3f",
   "metadata": {},
   "outputs": [
    {
     "name": "stdin",
     "output_type": "stream",
     "text": [
      "Nhập vào một chữ cái hoa:  B\n"
     ]
    },
    {
     "name": "stdout",
     "output_type": "stream",
     "text": [
      "Chữ cái thường liền trước: a\n"
     ]
    }
   ],
   "source": [
    "c = input(\"Nhập vào một chữ cái hoa: \")\n",
    "\n",
    "if c == \"A\":\n",
    "    print(\"Trường hợp đặc biệt: A không có chữ cái trước nó\")\n",
    "elif c.isupper():\n",
    "    a = c.lower()\n",
    "    b = chr(ord(a) - 1)\n",
    "    print(f\"Chữ cái thường liền trước: {b}\")\n",
    "else:\n",
    "    print(\"Bạn không nhập chữ cái hoa!\")\n"
   ]
  },
  {
   "cell_type": "code",
   "execution_count": 20,
   "id": "956d1096-5e8a-49e7-b2fe-a7113abc174c",
   "metadata": {},
   "outputs": [
    {
     "name": "stdin",
     "output_type": "stream",
     "text": [
      "nhập a: 3\n",
      "nhập b: 4\n",
      "nhập c: 5\n"
     ]
    },
    {
     "name": "stdout",
     "output_type": "stream",
     "text": [
      "Diện tích tam giác:6.0\n"
     ]
    }
   ],
   "source": [
    "import math\n",
    "a=float(input(\"nhập a:\"))\n",
    "b=float(input(\"nhập b:\"))\n",
    "c=float(input(\"nhập c:\"))\n",
    "if a+b>c and a+c>b and b+c>a:\n",
    "    p=(a+b+c)/2\n",
    "    S=math.sqrt(p*(p-a)*(p-b)*(p-c))\n",
    "    print(f\"Diện tích tam giác:{S:.1f}\")\n",
    "else:\n",
    "    print(\"Không phải 3 cạnh của 1 tam giác\")"
   ]
  },
  {
   "cell_type": "code",
   "execution_count": 22,
   "id": "52cf2ad2-2582-4659-b3bc-a76e3b95160c",
   "metadata": {},
   "outputs": [
    {
     "name": "stdin",
     "output_type": "stream",
     "text": [
      " 1 2 3\n"
     ]
    },
    {
     "name": "stdout",
     "output_type": "stream",
     "text": [
      "Không phải 3 cạnh của 1 tam giác\n"
     ]
    }
   ],
   "source": [
    "import math\n",
    "a,b,c=map(float, input().split())\n",
    "if a+b>c and a+c>b and b+c>a:\n",
    "    p=(a+b+c)/2\n",
    "    S=math.sqrt(p*(p-a)*(p-b)*(p-c))\n",
    "    print(f\"Diện tích tam giác:{S:.1f}\")\n",
    "else:\n",
    "    print(\"Không phải 3 cạnh của 1 tam giác\")"
   ]
  },
  {
   "cell_type": "code",
   "execution_count": 37,
   "id": "7432d6df-1be1-4fe8-b858-28eb95d901ac",
   "metadata": {},
   "outputs": [
    {
     "name": "stdin",
     "output_type": "stream",
     "text": [
      "nhập vào chuỗi kí tự thường >=20: jasdjnsjndjsnjfnsnfs\n"
     ]
    },
    {
     "name": "stdout",
     "output_type": "stream",
     "text": [
      "chữ cái thứ 5: j\n",
      "chữ cái thứ 9: n\n"
     ]
    }
   ],
   "source": [
    "s=input(\"nhập vào chuỗi kí tự thường >=20:\")\n",
    "if len(s)>=20 and s.islower():\n",
    "    print(\"chữ cái thứ 5:\", s[4])\n",
    "    print(\"chữ cái thứ 9:\", s[8])"
   ]
  },
  {
   "cell_type": "code",
   "execution_count": 2,
   "id": "ae4af66a-4ad5-4cfc-8368-6be5cc560c70",
   "metadata": {},
   "outputs": [
    {
     "name": "stdin",
     "output_type": "stream",
     "text": [
      "Tên chủ hộ:  Phạm Xuân Toại\n",
      "Chỉ số tháng trước:  1020\n",
      "Chỉ số tháng này:  1070\n"
     ]
    },
    {
     "name": "stdout",
     "output_type": "stream",
     "text": [
      "Họ và Tên: Phạm Xuân Toại\n",
      "Tiền điện phải trả: 107136\n"
     ]
    }
   ],
   "source": [
    "def tinh_tien_dien(kwh):\n",
    "    bac = [50, 50, 100, 100, 100]\n",
    "    gia = [1984, 2050, 2380, 2998, 3350, 3460]\n",
    "    tien = 0\n",
    "    for i in range(len(bac)):\n",
    "        if kwh > bac[i]:\n",
    "            tien += bac[i] * gia[i]\n",
    "            kwh -= bac[i]\n",
    "        else:\n",
    "            tien += kwh * gia[i]\n",
    "            return tien\n",
    "    tien += kwh * gia[-1]\n",
    "    return tien\n",
    "ten = input(\"Tên chủ hộ: \")\n",
    "b = int(input(\"Chỉ số tháng trước: \"))\n",
    "c = int(input(\"Chỉ số tháng này: \"))\n",
    "kwh = c - b\n",
    "tien_dien = tinh_tien_dien(kwh)\n",
    "tong_tien = int(tien_dien * 1.08)  \n",
    "print(\"Họ và Tên:\", ten)\n",
    "print(\"Tiền điện phải trả:\", tong_tien)\n"
   ]
  },
  {
   "cell_type": "code",
   "execution_count": 69,
   "id": "493ea4a2-2202-40ad-92f9-b60d3789b1ee",
   "metadata": {},
   "outputs": [
    {
     "name": "stdin",
     "output_type": "stream",
     "text": [
      "nhập số nguyên: 2\n"
     ]
    },
    {
     "name": "stdout",
     "output_type": "stream",
     "text": [
      "là số chẵn\n"
     ]
    }
   ],
   "source": [
    "a=int(input(\"nhập số nguyên:\"))\n",
    "if a%2==0:\n",
    "      print(\"là số chẵn\")\n",
    "else:\n",
    "      print(\"là số lẻ\")"
   ]
  },
  {
   "cell_type": "code",
   "execution_count": 71,
   "id": "26a4ba2b-dc11-49fd-ba42-b92d4af752e3",
   "metadata": {},
   "outputs": [
    {
     "name": "stdin",
     "output_type": "stream",
     "text": [
      "nhập vào số nguyên: 5\n"
     ]
    },
    {
     "name": "stdout",
     "output_type": "stream",
     "text": [
      "True\n"
     ]
    }
   ],
   "source": [
    "a=int(input(\"nhập vào số nguyên:\"))\n",
    "if a%5==0 and a%2!=0:\n",
    "    print(\"True\")\n",
    "else:\n",
    "    print(\"False\")\n",
    "    \n",
    "      "
   ]
  },
  {
   "cell_type": "code",
   "execution_count": 74,
   "id": "9226e27e-c1c6-4db3-ba53-d62e903475c6",
   "metadata": {},
   "outputs": [
    {
     "name": "stdin",
     "output_type": "stream",
     "text": [
      "nhập vào số nguyên: 105\n"
     ]
    },
    {
     "name": "stdout",
     "output_type": "stream",
     "text": [
      "True\n"
     ]
    }
   ],
   "source": [
    "a=int(input(\"nhập vào số nguyên:\"))\n",
    "if a%15==0:\n",
    "    print(\"True\")\n",
    "else:\n",
    "    print(\"False\")"
   ]
  },
  {
   "cell_type": "code",
   "execution_count": 77,
   "id": "9feeb7ee-01a5-4e53-bb45-f12e9c3c924a",
   "metadata": {},
   "outputs": [
    {
     "name": "stdin",
     "output_type": "stream",
     "text": [
      "Nhập tuổi của bạn: 12\n"
     ]
    },
    {
     "name": "stdout",
     "output_type": "stream",
     "text": [
      "Ko đủ tuổi tham gia\n"
     ]
    }
   ],
   "source": [
    "age=int(input(\"Nhập tuổi của bạn:\"))\n",
    "if age>=18:\n",
    "        print(\"Đủ tuổi tham gia bầu cử\")\n",
    "else:\n",
    "        print(\"Ko đủ tuổi tham gia\")"
   ]
  },
  {
   "cell_type": "code",
   "execution_count": 79,
   "id": "3693112f-08f8-4b6f-bdd2-b5769191191b",
   "metadata": {},
   "outputs": [
    {
     "name": "stdin",
     "output_type": "stream",
     "text": [
      " 2 2\n"
     ]
    },
    {
     "name": "stdout",
     "output_type": "stream",
     "text": [
      "2 số bằng nhau\n"
     ]
    }
   ],
   "source": [
    "a,b=map(float, input().split())\n",
    "if a>b:\n",
    "    print(a)\n",
    "elif a<b:\n",
    "    print(b)\n",
    "else:\n",
    "    print(\"2 số bằng nhau\")\n"
   ]
  },
  {
   "cell_type": "code",
   "execution_count": 83,
   "id": "2beeef4d-0e4d-46a9-af2a-e78e2f865857",
   "metadata": {},
   "outputs": [
    {
     "name": "stdin",
     "output_type": "stream",
     "text": [
      "Nhập một ký tự:  3\n"
     ]
    },
    {
     "name": "stdout",
     "output_type": "stream",
     "text": [
      "3 là chữ số\n"
     ]
    }
   ],
   "source": [
    "c= input(\"Nhập một ký tự: \")\n",
    "if c.isalpha():\n",
    "    print(f\"{c} là chữ cái\")\n",
    "elif c.isdigit():\n",
    "    print(f\"{c} là chữ số\")\n",
    "else:\n",
    "    print(f\"{c} không phải là chữ cái cũng không phải chữ số\")"
   ]
  },
  {
   "cell_type": "code",
   "execution_count": 85,
   "id": "532dfc51-1c05-4cdb-9002-2edb84748ed5",
   "metadata": {},
   "outputs": [
    {
     "name": "stdin",
     "output_type": "stream",
     "text": [
      "Nhập điểm (0-10):  8.5\n"
     ]
    },
    {
     "name": "stdout",
     "output_type": "stream",
     "text": [
      "Học lực: Giỏi\n"
     ]
    }
   ],
   "source": [
    "diem = float(input(\"Nhập điểm (0-10): \"))\n",
    "if diem < 0 or diem > 10:\n",
    "    print(\"Điểm không hợp lệ! Vui lòng nhập từ 0 đến 10.\")\n",
    "elif diem >= 8:\n",
    "    print(\"Học lực: Giỏi\")\n",
    "elif diem >= 6.5:\n",
    "    print(\"Học lực: Khá\")\n",
    "elif diem >= 5:\n",
    "    print(\"Học lực: Trung bình\")\n",
    "else:\n",
    "    print(\"Học lực: Yếu\")"
   ]
  },
  {
   "cell_type": "code",
   "execution_count": 88,
   "id": "31e1490c-c267-4c24-ad13-1367c2d3a864",
   "metadata": {},
   "outputs": [
    {
     "name": "stdin",
     "output_type": "stream",
     "text": [
      "nhập năm: 1002\n"
     ]
    },
    {
     "name": "stdout",
     "output_type": "stream",
     "text": [
      "năm ko nhuận\n"
     ]
    }
   ],
   "source": [
    "nam=int(input(\"nhập năm:\"))\n",
    "if nam%4==0:\n",
    "        print(\"năm nhuận\")\n",
    "else:\n",
    "        print(\"năm ko nhuận\")"
   ]
  },
  {
   "cell_type": "code",
   "execution_count": 92,
   "id": "9c811181-04af-47a9-996d-28ec84cfc685",
   "metadata": {},
   "outputs": [
    {
     "name": "stdin",
     "output_type": "stream",
     "text": [
      "Nhập số (0-9):  2\n"
     ]
    },
    {
     "name": "stdout",
     "output_type": "stream",
     "text": [
      "Hai\n"
     ]
    }
   ],
   "source": [
    "so = int(input(\"Nhập số (0-9): \"))\n",
    "match so:\n",
    "    case 0:\n",
    "        print(\"Không\")\n",
    "    case 1:\n",
    "        print(\"Một\")\n",
    "    case 2:\n",
    "        print(\"Hai\")\n",
    "    case 3:\n",
    "        print(\"Ba\")\n",
    "    case 4:\n",
    "        print(\"Bốn\")\n",
    "    case 5:\n",
    "        print(\"Năm\")\n",
    "    case 6:\n",
    "        print(\"Sáu\")\n",
    "    case 7:\n",
    "        print(\"Bảy\")\n",
    "    case 8:\n",
    "        print(\"Tám\")\n",
    "    case 9:\n",
    "        print(\"Chín\")\n",
    "    case _:\n",
    "        print(\"Số không hợp lệ\")"
   ]
  },
  {
   "cell_type": "code",
   "execution_count": 96,
   "id": "b3928ea9-8b07-48f2-9329-f7437fb92a07",
   "metadata": {},
   "outputs": [
    {
     "name": "stdin",
     "output_type": "stream",
     "text": [
      "nhập năm sinh: 2007\n"
     ]
    },
    {
     "name": "stdout",
     "output_type": "stream",
     "text": [
      "Đủ 18 tuổi\n"
     ]
    }
   ],
   "source": [
    "nam_sinh=int(input(\"nhập năm sinh:\"))\n",
    "age=2025 - nam_sinh\n",
    "if age>=18:\n",
    "    print(\"Đủ 18 tuổi\")\n",
    "else:\n",
    "    print(\"Chưa đủ 18 tuổi\")"
   ]
  },
  {
   "cell_type": "code",
   "execution_count": null,
   "id": "4afd82be-b231-4915-9ff8-47ca98c07b21",
   "metadata": {},
   "outputs": [],
   "source": [
    "ten=input(\"tên chủ hộ:\")\n",
    "thang_truoc=int(input(\"chỉ số tháng trước:\")\n",
    "thang_nay=int(input(\"chỉ số tháng trước:\")\n",
    "sotien=0\n",
    "a=thang_nay-thang_truoc(kwh)\n",
    "\n",
    "if a>0 and a<=50:\n",
    "    t1=a*1.984\n",
    "elif a>50 and a<=100:\n",
    "    t2=t1+(a-50)*2.050\n",
    "elif a>100 and a<=200:\n",
    "    t3=t1+t2+(a-100)*2.380\n"
   ]
  }
 ],
 "metadata": {
  "kernelspec": {
   "display_name": "Python 3 (ipykernel)",
   "language": "python",
   "name": "python3"
  },
  "language_info": {
   "codemirror_mode": {
    "name": "ipython",
    "version": 3
   },
   "file_extension": ".py",
   "mimetype": "text/x-python",
   "name": "python",
   "nbconvert_exporter": "python",
   "pygments_lexer": "ipython3",
   "version": "3.13.5"
  }
 },
 "nbformat": 4,
 "nbformat_minor": 5
}
